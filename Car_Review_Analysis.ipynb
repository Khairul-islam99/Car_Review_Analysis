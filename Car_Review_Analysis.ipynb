{
  "cells": [
    {
      "cell_type": "markdown",
      "metadata": {
        "id": "view-in-github",
        "colab_type": "text"
      },
      "source": [
        "<a href=\"https://colab.research.google.com/github/Khairul-islam99/Car_Review_Analysis/blob/main/Car_Review_Analysis.ipynb\" target=\"_parent\"><img src=\"https://colab.research.google.com/assets/colab-badge.svg\" alt=\"Open In Colab\"/></a>"
      ]
    },
    {
      "source": [
        "![image](car.jpeg)\n",
        "\n",
        "**Car-ing is sharing**, an auto dealership company for car sales and rental, is taking their services to the next level thanks to **Large Language Models (LLMs)**.\n",
        "\n",
        "As their newly recruited AI and NLP developer, you've been asked to prototype a chatbot app with multiple functionalities that not only assist customers but also provide support to human agents in the company.\n",
        "\n",
        "The solution should receive textual prompts and use a variety of pre-trained Hugging Face LLMs to respond to a series of tasks, e.g. classifying the sentiment in a car’s text review, answering a customer question, summarizing or translating text, etc.\n"
      ],
      "metadata": {
        "id": "9aabafca-8129-4943-b865-d5e897637253"
      },
      "id": "9aabafca-8129-4943-b865-d5e897637253",
      "cell_type": "markdown"
    },
    {
      "source": [
        "## Before you start\n",
        "\n",
        "In order to complete the project you may wish to install some Hugging Face libraries such as `transformers` and `evaluate`."
      ],
      "metadata": {
        "id": "972c0004-e8c7-4539-967d-0c32167ae540"
      },
      "id": "972c0004-e8c7-4539-967d-0c32167ae540",
      "cell_type": "markdown"
    },
    {
      "source": [
        "!pip install transformers\n",
        "!pip install evaluate==0.4.0\n",
        "!pip install datasets==2.10.0\n",
        "!pip install sentencepiece==0.1.97\n",
        "\n",
        "from transformers import logging\n",
        "logging.set_verbosity(logging.WARNING)"
      ],
      "metadata": {
        "executionCancelledAt": null,
        "executionTime": 13269,
        "lastExecutedAt": 1740935779672,
        "lastScheduledRunId": null,
        "lastSuccessfullyExecutedCode": "!pip install transformers\n!pip install evaluate==0.4.0\n!pip install datasets==2.10.0\n!pip install sentencepiece==0.1.97\n\nfrom transformers import logging\nlogging.set_verbosity(logging.WARNING)",
        "outputsMetadata": {
          "0": {
            "height": 553,
            "type": "stream"
          }
        },
        "collapsed": true,
        "jupyter": {
          "outputs_hidden": true,
          "source_hidden": false
        },
        "lastExecutedByKernel": "33627169-d1d7-4144-a0f7-d5c40e4c6ce1",
        "id": "5325a4c0-ceb3-4b66-acd2-5eadcefe3a63",
        "outputId": "0c429e0f-f749-453c-a931-df7ff9a9ca1e"
      },
      "id": "5325a4c0-ceb3-4b66-acd2-5eadcefe3a63",
      "cell_type": "code",
      "execution_count": null,
      "outputs": [
        {
          "output_type": "stream",
          "name": "stdout",
          "text": "Defaulting to user installation because normal site-packages is not writeable\nRequirement already satisfied: transformers in /usr/local/lib/python3.8/dist-packages (4.29.0)\nRequirement already satisfied: filelock in /usr/local/lib/python3.8/dist-packages (from transformers) (3.8.0)\nRequirement already satisfied: huggingface-hub<1.0,>=0.11.0 in /usr/local/lib/python3.8/dist-packages (from transformers) (0.11.0)\nRequirement already satisfied: numpy>=1.17 in /usr/local/lib/python3.8/dist-packages (from transformers) (1.23.2)\nRequirement already satisfied: packaging>=20.0 in /usr/local/lib/python3.8/dist-packages (from transformers) (23.2)\nRequirement already satisfied: pyyaml>=5.1 in /usr/local/lib/python3.8/dist-packages (from transformers) (6.0.1)\nRequirement already satisfied: regex!=2019.12.17 in /usr/local/lib/python3.8/dist-packages (from transformers) (2022.8.17)\nRequirement already satisfied: requests in /usr/local/lib/python3.8/dist-packages (from transformers) (2.31.0)\nRequirement already satisfied: tokenizers!=0.11.3,<0.14,>=0.11.1 in /usr/local/lib/python3.8/dist-packages (from transformers) (0.13.2)\nRequirement already satisfied: tqdm>=4.27 in /usr/local/lib/python3.8/dist-packages (from transformers) (4.64.0)\nRequirement already satisfied: typing-extensions>=3.7.4.3 in /usr/local/lib/python3.8/dist-packages (from huggingface-hub<1.0,>=0.11.0->transformers) (4.12.2)\nRequirement already satisfied: charset-normalizer<4,>=2 in /usr/local/lib/python3.8/dist-packages (from requests->transformers) (2.0.12)\nRequirement already satisfied: idna<4,>=2.5 in /usr/lib/python3/dist-packages (from requests->transformers) (2.8)\nRequirement already satisfied: urllib3<3,>=1.21.1 in /usr/lib/python3/dist-packages (from requests->transformers) (1.25.8)\nRequirement already satisfied: certifi>=2017.4.17 in /usr/lib/python3/dist-packages (from requests->transformers) (2019.11.28)\n\n\u001b[1m[\u001b[0m\u001b[34;49mnotice\u001b[0m\u001b[1;39;49m]\u001b[0m\u001b[39;49m A new release of pip is available: \u001b[0m\u001b[31;49m24.3.1\u001b[0m\u001b[39;49m -> \u001b[0m\u001b[32;49m25.0.1\u001b[0m\n\u001b[1m[\u001b[0m\u001b[34;49mnotice\u001b[0m\u001b[1;39;49m]\u001b[0m\u001b[39;49m To update, run: \u001b[0m\u001b[32;49mpython3 -m pip install --upgrade pip\u001b[0m\nDefaulting to user installation because normal site-packages is not writeable\nRequirement already satisfied: evaluate==0.4.0 in /home/repl/.local/lib/python3.8/site-packages (0.4.0)\nRequirement already satisfied: datasets>=2.0.0 in /home/repl/.local/lib/python3.8/site-packages (from evaluate==0.4.0) (2.10.0)\nRequirement already satisfied: numpy>=1.17 in /usr/local/lib/python3.8/dist-packages (from evaluate==0.4.0) (1.23.2)\nRequirement already satisfied: dill in /usr/local/lib/python3.8/dist-packages (from evaluate==0.4.0) (0.3.5.1)\nRequirement already satisfied: pandas in /usr/local/lib/python3.8/dist-packages (from evaluate==0.4.0) (1.5.1)\nRequirement already satisfied: requests>=2.19.0 in /usr/local/lib/python3.8/dist-packages (from evaluate==0.4.0) (2.31.0)\nRequirement already satisfied: tqdm>=4.62.1 in /usr/local/lib/python3.8/dist-packages (from evaluate==0.4.0) (4.64.0)\nRequirement already satisfied: xxhash in /usr/local/lib/python3.8/dist-packages (from evaluate==0.4.0) (3.3.0)\nRequirement already satisfied: multiprocess in /usr/local/lib/python3.8/dist-packages (from evaluate==0.4.0) (0.70.13)\nRequirement already satisfied: fsspec>=2021.05.0 in /usr/local/lib/python3.8/dist-packages (from fsspec[http]>=2021.05.0->evaluate==0.4.0) (2022.7.1)\nRequirement already satisfied: huggingface-hub>=0.7.0 in /usr/local/lib/python3.8/dist-packages (from evaluate==0.4.0) (0.11.0)\nRequirement already satisfied: packaging in /usr/local/lib/python3.8/dist-packages (from evaluate==0.4.0) (23.2)\nRequirement already satisfied: responses<0.19 in /usr/local/lib/python3.8/dist-packages (from evaluate==0.4.0) (0.10.15)\nRequirement already satisfied: pyarrow>=6.0.0 in /usr/local/lib/python3.8/dist-packages (from datasets>=2.0.0->evaluate==0.4.0) (7.0.0)\nRequirement already satisfied: aiohttp in /usr/local/lib/python3.8/dist-packages (from datasets>=2.0.0->evaluate==0.4.0) (3.8.1)\nRequirement already satisfied: pyyaml>=5.1 in /usr/local/lib/python3.8/dist-packages (from datasets>=2.0.0->evaluate==0.4.0) (6.0.1)\nRequirement already satisfied: filelock in /usr/local/lib/python3.8/dist-packages (from huggingface-hub>=0.7.0->evaluate==0.4.0) (3.8.0)\nRequirement already satisfied: typing-extensions>=3.7.4.3 in /usr/local/lib/python3.8/dist-packages (from huggingface-hub>=0.7.0->evaluate==0.4.0) (4.12.2)\nRequirement already satisfied: charset-normalizer<4,>=2 in /usr/local/lib/python3.8/dist-packages (from requests>=2.19.0->evaluate==0.4.0) (2.0.12)\nRequirement already satisfied: idna<4,>=2.5 in /usr/lib/python3/dist-packages (from requests>=2.19.0->evaluate==0.4.0) (2.8)\nRequirement already satisfied: urllib3<3,>=1.21.1 in /usr/lib/python3/dist-packages (from requests>=2.19.0->evaluate==0.4.0) (1.25.8)\nRequirement already satisfied: certifi>=2017.4.17 in /usr/lib/python3/dist-packages (from requests>=2.19.0->evaluate==0.4.0) (2019.11.28)\nRequirement already satisfied: six in /usr/lib/python3/dist-packages (from responses<0.19->evaluate==0.4.0) (1.14.0)\nRequirement already satisfied: python-dateutil>=2.8.1 in /usr/local/lib/python3.8/dist-packages (from pandas->evaluate==0.4.0) (2.8.2)\nRequirement already satisfied: pytz>=2020.1 in /usr/local/lib/python3.8/dist-packages (from pandas->evaluate==0.4.0) (2022.7)\nRequirement already satisfied: attrs>=17.3.0 in /usr/local/lib/python3.8/dist-packages (from aiohttp->datasets>=2.0.0->evaluate==0.4.0) (23.2.0)\nRequirement already satisfied: multidict<7.0,>=4.5 in /usr/local/lib/python3.8/dist-packages (from aiohttp->datasets>=2.0.0->evaluate==0.4.0) (6.0.2)\nRequirement already satisfied: async-timeout<5.0,>=4.0.0a3 in /usr/local/lib/python3.8/dist-packages (from aiohttp->datasets>=2.0.0->evaluate==0.4.0) (4.0.2)\nRequirement already satisfied: yarl<2.0,>=1.0 in /usr/local/lib/python3.8/dist-packages (from aiohttp->datasets>=2.0.0->evaluate==0.4.0) (1.8.1)\nRequirement already satisfied: frozenlist>=1.1.1 in /usr/local/lib/python3.8/dist-packages (from aiohttp->datasets>=2.0.0->evaluate==0.4.0) (1.3.1)\nRequirement already satisfied: aiosignal>=1.1.2 in /usr/local/lib/python3.8/dist-packages (from aiohttp->datasets>=2.0.0->evaluate==0.4.0) (1.2.0)\n\n\u001b[1m[\u001b[0m\u001b[34;49mnotice\u001b[0m\u001b[1;39;49m]\u001b[0m\u001b[39;49m A new release of pip is available: \u001b[0m\u001b[31;49m24.3.1\u001b[0m\u001b[39;49m -> \u001b[0m\u001b[32;49m25.0.1\u001b[0m\n\u001b[1m[\u001b[0m\u001b[34;49mnotice\u001b[0m\u001b[1;39;49m]\u001b[0m\u001b[39;49m To update, run: \u001b[0m\u001b[32;49mpython3 -m pip install --upgrade pip\u001b[0m\nDefaulting to user installation because normal site-packages is not writeable\nRequirement already satisfied: datasets==2.10.0 in /home/repl/.local/lib/python3.8/site-packages (2.10.0)\nRequirement already satisfied: numpy>=1.17 in /usr/local/lib/python3.8/dist-packages (from datasets==2.10.0) (1.23.2)\nRequirement already satisfied: pyarrow>=6.0.0 in /usr/local/lib/python3.8/dist-packages (from datasets==2.10.0) (7.0.0)\nRequirement already satisfied: dill<0.3.7,>=0.3.0 in /usr/local/lib/python3.8/dist-packages (from datasets==2.10.0) (0.3.5.1)\nRequirement already satisfied: pandas in /usr/local/lib/python3.8/dist-packages (from datasets==2.10.0) (1.5.1)\nRequirement already satisfied: requests>=2.19.0 in /usr/local/lib/python3.8/dist-packages (from datasets==2.10.0) (2.31.0)\nRequirement already satisfied: tqdm>=4.62.1 in /usr/local/lib/python3.8/dist-packages (from datasets==2.10.0) (4.64.0)\nRequirement already satisfied: xxhash in /usr/local/lib/python3.8/dist-packages (from datasets==2.10.0) (3.3.0)\nRequirement already satisfied: multiprocess in /usr/local/lib/python3.8/dist-packages (from datasets==2.10.0) (0.70.13)\nRequirement already satisfied: fsspec>=2021.11.1 in /usr/local/lib/python3.8/dist-packages (from fsspec[http]>=2021.11.1->datasets==2.10.0) (2022.7.1)\nRequirement already satisfied: aiohttp in /usr/local/lib/python3.8/dist-packages (from datasets==2.10.0) (3.8.1)\nRequirement already satisfied: huggingface-hub<1.0.0,>=0.2.0 in /usr/local/lib/python3.8/dist-packages (from datasets==2.10.0) (0.11.0)\nRequirement already satisfied: packaging in /usr/local/lib/python3.8/dist-packages (from datasets==2.10.0) (23.2)\nRequirement already satisfied: responses<0.19 in /usr/local/lib/python3.8/dist-packages (from datasets==2.10.0) (0.10.15)\nRequirement already satisfied: pyyaml>=5.1 in /usr/local/lib/python3.8/dist-packages (from datasets==2.10.0) (6.0.1)\nRequirement already satisfied: filelock in /usr/local/lib/python3.8/dist-packages (from huggingface-hub<1.0.0,>=0.2.0->datasets==2.10.0) (3.8.0)\nRequirement already satisfied: typing-extensions>=3.7.4.3 in /usr/local/lib/python3.8/dist-packages (from huggingface-hub<1.0.0,>=0.2.0->datasets==2.10.0) (4.12.2)\nRequirement already satisfied: charset-normalizer<4,>=2 in /usr/local/lib/python3.8/dist-packages (from requests>=2.19.0->datasets==2.10.0) (2.0.12)\nRequirement already satisfied: idna<4,>=2.5 in /usr/lib/python3/dist-packages (from requests>=2.19.0->datasets==2.10.0) (2.8)\nRequirement already satisfied: urllib3<3,>=1.21.1 in /usr/lib/python3/dist-packages (from requests>=2.19.0->datasets==2.10.0) (1.25.8)\nRequirement already satisfied: certifi>=2017.4.17 in /usr/lib/python3/dist-packages (from requests>=2.19.0->datasets==2.10.0) (2019.11.28)\nRequirement already satisfied: six in /usr/lib/python3/dist-packages (from responses<0.19->datasets==2.10.0) (1.14.0)\nRequirement already satisfied: attrs>=17.3.0 in /usr/local/lib/python3.8/dist-packages (from aiohttp->datasets==2.10.0) (23.2.0)\nRequirement already satisfied: multidict<7.0,>=4.5 in /usr/local/lib/python3.8/dist-packages (from aiohttp->datasets==2.10.0) (6.0.2)\nRequirement already satisfied: async-timeout<5.0,>=4.0.0a3 in /usr/local/lib/python3.8/dist-packages (from aiohttp->datasets==2.10.0) (4.0.2)\nRequirement already satisfied: yarl<2.0,>=1.0 in /usr/local/lib/python3.8/dist-packages (from aiohttp->datasets==2.10.0) (1.8.1)\nRequirement already satisfied: frozenlist>=1.1.1 in /usr/local/lib/python3.8/dist-packages (from aiohttp->datasets==2.10.0) (1.3.1)\nRequirement already satisfied: aiosignal>=1.1.2 in /usr/local/lib/python3.8/dist-packages (from aiohttp->datasets==2.10.0) (1.2.0)\nRequirement already satisfied: python-dateutil>=2.8.1 in /usr/local/lib/python3.8/dist-packages (from pandas->datasets==2.10.0) (2.8.2)\nRequirement already satisfied: pytz>=2020.1 in /usr/local/lib/python3.8/dist-packages (from pandas->datasets==2.10.0) (2022.7)\n\n\u001b[1m[\u001b[0m\u001b[34;49mnotice\u001b[0m\u001b[1;39;49m]\u001b[0m\u001b[39;49m A new release of pip is available: \u001b[0m\u001b[31;49m24.3.1\u001b[0m\u001b[39;49m -> \u001b[0m\u001b[32;49m25.0.1\u001b[0m\n\u001b[1m[\u001b[0m\u001b[34;49mnotice\u001b[0m\u001b[1;39;49m]\u001b[0m\u001b[39;49m To update, run: \u001b[0m\u001b[32;49mpython3 -m pip install --upgrade pip\u001b[0m\nDefaulting to user installation because normal site-packages is not writeable\nRequirement already satisfied: sentencepiece==0.1.97 in /usr/local/lib/python3.8/dist-packages (0.1.97)\n\n\u001b[1m[\u001b[0m\u001b[34;49mnotice\u001b[0m\u001b[1;39;49m]\u001b[0m\u001b[39;49m A new release of pip is available: \u001b[0m\u001b[31;49m24.3.1\u001b[0m\u001b[39;49m -> \u001b[0m\u001b[32;49m25.0.1\u001b[0m\n\u001b[1m[\u001b[0m\u001b[34;49mnotice\u001b[0m\u001b[1;39;49m]\u001b[0m\u001b[39;49m To update, run: \u001b[0m\u001b[32;49mpython3 -m pip install --upgrade pip\u001b[0m\n"
        }
      ]
    },
    {
      "source": [
        "# 1. Sentiment Analysis"
      ],
      "metadata": {
        "id": "c92f065c-eeb2-4123-86d6-5114092cf711"
      },
      "cell_type": "markdown",
      "id": "c92f065c-eeb2-4123-86d6-5114092cf711"
    },
    {
      "source": [
        "# Import necessary libraries\n",
        "import pandas as pd\n",
        "from transformers import pipeline\n",
        "from sklearn.metrics import accuracy_score, f1_score\n",
        "from evaluate import load\n",
        "from nltk.tokenize import sent_tokenize\n",
        "from nltk.translate.bleu_score import sentence_bleu\n",
        "import nltk\n",
        "nltk.download('punkt')"
      ],
      "metadata": {
        "executionCancelledAt": null,
        "executionTime": 51,
        "lastExecutedAt": 1740935779725,
        "lastExecutedByKernel": "33627169-d1d7-4144-a0f7-d5c40e4c6ce1",
        "lastScheduledRunId": null,
        "lastSuccessfullyExecutedCode": "# Import necessary libraries\nimport pandas as pd\nfrom transformers import pipeline\nfrom sklearn.metrics import accuracy_score, f1_score\nfrom evaluate import load\nfrom nltk.tokenize import sent_tokenize\nfrom nltk.translate.bleu_score import sentence_bleu\nimport nltk\nnltk.download('punkt')",
        "outputsMetadata": {
          "0": {
            "height": 59,
            "type": "stream"
          }
        },
        "id": "e4981021-3bc3-41a2-9c41-f8d360a362c1",
        "outputId": "2e64a9f9-af0a-4417-b936-488b070f4a32"
      },
      "cell_type": "code",
      "id": "e4981021-3bc3-41a2-9c41-f8d360a362c1",
      "outputs": [
        {
          "output_type": "stream",
          "name": "stderr",
          "text": "[nltk_data] Downloading package punkt to /home/repl/nltk_data...\n[nltk_data]   Package punkt is already up-to-date!\n"
        },
        {
          "output_type": "execute_result",
          "data": {
            "text/plain": "True"
          },
          "metadata": {},
          "execution_count": 191
        }
      ],
      "execution_count": null
    },
    {
      "source": [
        "# Step 1: Load the Data\n",
        "\n",
        "# Load the CSV file\n",
        "df = pd.read_csv(\"/content/car_reviews.csv\", delimiter=\";\")\n",
        "df.head()\n",
        "\n"
      ],
      "metadata": {
        "executionCancelledAt": null,
        "executionTime": 51,
        "lastExecutedAt": 1740935779777,
        "lastExecutedByKernel": "33627169-d1d7-4144-a0f7-d5c40e4c6ce1",
        "lastScheduledRunId": null,
        "lastSuccessfullyExecutedCode": "# Step 1: Load the Data\n\n# Load the CSV file\ndf = pd.read_csv(\"data/car_reviews.csv\", delimiter=\";\")\ndf.head()\n\n",
        "outputsMetadata": {
          "0": {
            "height": 245,
            "type": "dataFrame",
            "tableState": {
              "quickFilterText": "",
              "customFilter": {
                "const": {
                  "type": "boolean",
                  "valid": true,
                  "value": true
                },
                "id": "43269755-e5b8-4b02-a8e0-3b0c61bb2a8e",
                "nodeType": "const"
              }
            }
          }
        },
        "id": "c7c52729-5759-4b15-a97f-9f6e2c2b78ec",
        "outputId": "da59c2d7-6e45-4aee-dee3-a427e0464ff9"
      },
      "cell_type": "code",
      "id": "c7c52729-5759-4b15-a97f-9f6e2c2b78ec",
      "outputs": [
        {
          "output_type": "execute_result",
          "data": {
            "application/com.datacamp.data-table.v2+json": {
              "table": {
                "schema": {
                  "fields": [
                    {
                      "name": "index",
                      "type": "integer"
                    },
                    {
                      "name": "Review",
                      "type": "string"
                    },
                    {
                      "name": "Class",
                      "type": "string"
                    }
                  ],
                  "primaryKey": [
                    "index"
                  ],
                  "pandas_version": "1.4.0"
                },
                "data": {
                  "index": [
                    0,
                    1,
                    2,
                    3,
                    4
                  ],
                  "Review": [
                    "I am very satisfied with my 2014 Nissan NV SL. I use this van for my business deliveries and personal use. Camping, road trips, etc. We dont have any children so I store most of the seats in my warehouse. I wanted the passenger van for the rear air conditioning. We drove our van from Florida to California for a Cross Country trip in 2014. We averaged about 18 mpg. We drove thru a lot of rain and It was a very comfortable and stable vehicle. The V8 Nissan Titan engine is a 500k mile engine. It has been tested many times by delivery and trucking companies. This is why Nissan gives you a 5 year or 100k mile bumper to bumper warranty. Many people are scared about driving this van because of its size. But with front and rear sonar sensors, large mirrors and the back up camera. It is easy to drive. The front and rear sensors also monitor the front and rear sides of the bumpers making it easier to park close to objects. Our Nissan NV is a Tow Monster. It pulls our 5000 pound travel trailer like its not even there. I have plenty of power to pass a vehicle if needed. The 5.6 liter engine produces 317 hp. I have owned Chevy and Ford vans and there were not very comfortable and had little cockpit room. The Nissan NV is the only vehicle made that has the engine forward like a pick up truck giving the driver plenty of room and comfort in the cockpit area. I dont have any negatives to say about my NV. This is a wide vehicle. The only modification I would like to see from Nissan is for them to add amber side mirror marker lights.BTW. I now own a 2016 Nissan NVP SL. Love it.",
                    "The car is fine. It's a bit loud and not very powerful. On one hand, compared to its peers, the interior is well-built. The transmission failed a few years ago, and the dealer replaced it under warranty with no issues. Now, about 60k miles later, the transmission is failing again. It sounds like a truck, and the issues are well-documented. The dealer tells me it is normal, refusing to do anything to resolve the issue. After owning the car for 4 years, there are many other vehicles I would purchase over this one. Initially, I really liked what the brand is about: ride quality, reliability, etc. But I will not purchase another one. Despite these concerns, I must say, the level of comfort in the car has always been satisfactory, but not worth the rest of issues found.",
                    "My first foreign car. Love it, I would buy another.",
                    "I've come across numerous reviews praising the Rogue, and I genuinely feel like I might be missing something. It's only been a week since I got the car, and I am genuinely disappointed. I truly wish I could return it. My main concern revolves around what I see as a significant design flaw (which I believe also exists in the Murano, though that wasn't much better and considerably pricier). The rear windshield is just too small. The headrests in the back seat obstruct the sides of the rearview window. This \"Crossover\" feels more like a cheaply made compact car. My other vehicle is a Sonata, and it provides a significantly quieter and smoother ride. I did not anticipate this car to ride so roughly; my 2006 Pathfinder had a smoother ride! I would rate this car a 5 all around.",
                    "I've been dreaming of owning an SUV for quite a while, but I've been driving cars that were already paid for during an extended period. I ultimately made the decision to transition to a brand-new car, which, of course, involved taking on new payments. However, given that I don't drive extensively, I was inclined to avoid a substantial financial commitment. The Nissan Rogue provides me with the desired SUV experience without burdening me with an exorbitant payment; the financial arrangement is quite reasonable. Handling and styling are great; I have hauled 12 bags of mulch in the back with the seats down and could have held more. I am VERY satisfied overall. I find myself needing to exercise extra caution when making lane changes, particularly owing to the blind spots resulting from the small side windows situated towards the rear of the vehicle. To address this concern, I am actively engaged in making adjustments to my mirrors and consciously reducing the frequency of lane changes. The engine delivers strong performance, and the ride is really smooth."
                  ],
                  "Class": [
                    "POSITIVE",
                    "NEGATIVE",
                    "POSITIVE",
                    "NEGATIVE",
                    "POSITIVE"
                  ]
                }
              },
              "total_rows": 5,
              "truncation_type": null
            },
            "text/plain": "                                              Review     Class\n0  I am very satisfied with my 2014 Nissan NV SL....  POSITIVE\n1  The car is fine. It's a bit loud and not very ...  NEGATIVE\n2  My first foreign car. Love it, I would buy ano...  POSITIVE\n3  I've come across numerous reviews praising the...  NEGATIVE\n4  I've been dreaming of owning an SUV for quite ...  POSITIVE",
            "text/html": "<div>\n<style scoped>\n    .dataframe tbody tr th:only-of-type {\n        vertical-align: middle;\n    }\n\n    .dataframe tbody tr th {\n        vertical-align: top;\n    }\n\n    .dataframe thead th {\n        text-align: right;\n    }\n</style>\n<table border=\"1\" class=\"dataframe\">\n  <thead>\n    <tr style=\"text-align: right;\">\n      <th></th>\n      <th>Review</th>\n      <th>Class</th>\n    </tr>\n  </thead>\n  <tbody>\n    <tr>\n      <th>0</th>\n      <td>I am very satisfied with my 2014 Nissan NV SL....</td>\n      <td>POSITIVE</td>\n    </tr>\n    <tr>\n      <th>1</th>\n      <td>The car is fine. It's a bit loud and not very ...</td>\n      <td>NEGATIVE</td>\n    </tr>\n    <tr>\n      <th>2</th>\n      <td>My first foreign car. Love it, I would buy ano...</td>\n      <td>POSITIVE</td>\n    </tr>\n    <tr>\n      <th>3</th>\n      <td>I've come across numerous reviews praising the...</td>\n      <td>NEGATIVE</td>\n    </tr>\n    <tr>\n      <th>4</th>\n      <td>I've been dreaming of owning an SUV for quite ...</td>\n      <td>POSITIVE</td>\n    </tr>\n  </tbody>\n</table>\n</div>"
          },
          "metadata": {
            "application/com.datacamp.data-table.v2+json": {
              "status": "success"
            }
          },
          "execution_count": 192
        }
      ],
      "execution_count": null
    },
    {
      "source": [
        "# Convert the 'Review' and 'Class' columns to lists\n",
        "reviews = df[\"Review\"].tolist() # List of reviews\n",
        "true_labels = df['Class'].tolist()  # List of true labels (POSITIVE/NEGATIVE)"
      ],
      "metadata": {
        "executionCancelledAt": null,
        "executionTime": 52,
        "lastExecutedAt": 1740935779829,
        "lastExecutedByKernel": "33627169-d1d7-4144-a0f7-d5c40e4c6ce1",
        "lastScheduledRunId": null,
        "lastSuccessfullyExecutedCode": "# Convert the 'Review' and 'Class' columns to lists\nreviews = df[\"Review\"].tolist() # List of reviews\ntrue_labels = df['Class'].tolist()  # List of true labels (POSITIVE/NEGATIVE)",
        "id": "550321d5-f72e-49f7-b6b2-0c89fee249e1"
      },
      "cell_type": "code",
      "id": "550321d5-f72e-49f7-b6b2-0c89fee249e1",
      "outputs": [],
      "execution_count": null
    },
    {
      "source": [
        "The dataset contains two columns: Review (the text of the review) and Class (the sentiment label: POSITIVE or NEGATIVE).\n",
        "\n",
        "**We convert these columns to lists because:\n",
        "\n",
        "**Hugging Face models expect input as lists or strings.**\n",
        "\n",
        "**Lists are easier to work with when iterating over multiple reviews.***"
      ],
      "metadata": {
        "id": "1fcb2219-eb15-40a8-b6f9-2dddf3bd5c7f"
      },
      "cell_type": "markdown",
      "id": "1fcb2219-eb15-40a8-b6f9-2dddf3bd5c7f"
    },
    {
      "source": [
        "#Step 2: Load the Sentiment Analysis Model\n",
        "\n",
        "sentiment_pipeline = pipeline(\"sentiment-analysis\")"
      ],
      "metadata": {
        "executionCancelledAt": null,
        "executionTime": 837,
        "lastExecutedAt": 1740935780666,
        "lastExecutedByKernel": "33627169-d1d7-4144-a0f7-d5c40e4c6ce1",
        "lastScheduledRunId": null,
        "lastSuccessfullyExecutedCode": "#Step 2: Load the Sentiment Analysis Model\n\nsentiment_pipeline = pipeline(\"sentiment-analysis\")",
        "outputsMetadata": {
          "0": {
            "height": 101,
            "type": "stream"
          },
          "5": {
            "height": 80,
            "type": "stream"
          }
        },
        "collapsed": true,
        "jupyter": {
          "outputs_hidden": true,
          "source_hidden": false
        },
        "id": "dbae0eb6-c034-417a-832a-06862ee07473",
        "outputId": "498615e6-65d2-4213-d9fc-1e557be75ba2"
      },
      "cell_type": "code",
      "id": "dbae0eb6-c034-417a-832a-06862ee07473",
      "outputs": [
        {
          "output_type": "stream",
          "name": "stderr",
          "text": "No model was supplied, defaulted to distilbert-base-uncased-finetuned-sst-2-english and revision af0f99b (https://huggingface.co/distilbert-base-uncased-finetuned-sst-2-english).\nUsing a pipeline without specifying a model name and revision in production is not recommended.\n"
        }
      ],
      "execution_count": null
    },
    {
      "source": [
        "1. Hugging Face’s pipeline provides a simple interface for using pre-trained models.\n",
        "\n",
        "2. The sentiment-analysis pipeline automatically loads a model fine-tuned for sentiment classification."
      ],
      "metadata": {
        "id": "b33b4931-1673-410f-8217-cd5bacb9cbd3"
      },
      "cell_type": "markdown",
      "id": "b33b4931-1673-410f-8217-cd5bacb9cbd3"
    },
    {
      "source": [
        "#Step 3: Predict Sentiment for Each Review\n",
        "\n",
        "predicted_labels = sentiment_analyzer(\"reviews\") #The model analyzes each review and predicts whether it’s POSITIVE or NEGATIVE."
      ],
      "metadata": {
        "executionCancelledAt": null,
        "executionTime": 53,
        "lastExecutedAt": 1740935780721,
        "lastExecutedByKernel": "33627169-d1d7-4144-a0f7-d5c40e4c6ce1",
        "lastScheduledRunId": null,
        "lastSuccessfullyExecutedCode": "#Step 3: Predict Sentiment for Each Review\n\npredicted_labels = sentiment_analyzer(\"reviews\") #The model analyzes each review and predicts whether it’s POSITIVE or NEGATIVE. ",
        "id": "f6e38bbe-ed23-4685-8770-d093681fb304"
      },
      "cell_type": "code",
      "id": "f6e38bbe-ed23-4685-8770-d093681fb304",
      "outputs": [],
      "execution_count": null
    },
    {
      "source": [
        "print(predicted_labels)"
      ],
      "metadata": {
        "executionCancelledAt": null,
        "executionTime": 48,
        "lastExecutedAt": 1740935780769,
        "lastExecutedByKernel": "33627169-d1d7-4144-a0f7-d5c40e4c6ce1",
        "lastScheduledRunId": null,
        "lastSuccessfullyExecutedCode": "print(predicted_labels)",
        "outputsMetadata": {
          "0": {
            "height": 38,
            "type": "stream"
          }
        },
        "id": "280d390a-705c-4b6c-aa3d-80428fb9b08d",
        "outputId": "ebf679b3-f9a6-466d-c90c-32fb2b851f84"
      },
      "cell_type": "code",
      "id": "280d390a-705c-4b6c-aa3d-80428fb9b08d",
      "outputs": [
        {
          "output_type": "stream",
          "name": "stdout",
          "text": "[{'label': 'POSITIVE', 'score': 0.998808741569519}]\n"
        }
      ],
      "execution_count": null
    },
    {
      "source": [
        "The output (predicted_labels) is a list of dictionaries, where each dictionary contains:\n",
        "\n",
        "label: The predicted sentiment (POSITIVE or NEGATIVE).\n",
        "\n",
        "score: The confidence score of the prediction."
      ],
      "metadata": {
        "id": "b9df2bfa-3a6b-4a62-9d00-842fe492c0e3"
      },
      "cell_type": "markdown",
      "id": "b9df2bfa-3a6b-4a62-9d00-842fe492c0e3"
    },
    {
      "source": [
        "import pandas as pd\n",
        "import torch\n",
        "\n",
        "# Load the car reviews dataset\n",
        "file_path = \"data/car_reviews.csv\"\n",
        "df = pd.read_csv(file_path, delimiter=\";\")\n",
        "\n",
        "# Put the car reviews and their associated sentiment labels in two lists\n",
        "reviews = df['Review'].tolist()\n",
        "real_labels = df['Class'].tolist()\n",
        "\n",
        "\n",
        "# Instruction 1: sentiment classification\n",
        "\n",
        "# Load a sentiment analysis LLM into a pipeline\n",
        "from transformers import pipeline\n",
        "classifier = pipeline('sentiment-analysis', model='distilbert-base-uncased-finetuned-sst-2-english')\n",
        "\n",
        "# Perform inference on the car reviews and display prediction results\n",
        "predicted_labels = classifier(reviews)\n",
        "for review, prediction, label in zip(reviews, predicted_labels, real_labels):\n",
        "    print(f\"Review: {review}\\nActual Sentiment: {label}\\nPredicted Sentiment: {prediction['label']} (Confidence: {prediction['score']:.4f})\\n\")\n",
        "\n",
        "# Load accuracy and F1 score metrics\n",
        "import evaluate\n",
        "accuracy = evaluate.load(\"accuracy\")\n",
        "f1 = evaluate.load(\"f1\")\n",
        "\n",
        "# Map categorical sentiment labels into integer labels\n",
        "references = [1 if label == \"POSITIVE\" else 0 for label in real_labels]\n",
        "predictions = [1 if label['label'] == \"POSITIVE\" else 0 for label in predicted_labels]\n",
        "\n",
        "# Calculate accuracy and F1 score\n",
        "accuracy_result_dict = accuracy.compute(references=references, predictions=predictions)\n",
        "accuracy_result = accuracy_result_dict['accuracy']\n",
        "f1_result_dict = f1.compute(references=references, predictions=predictions)\n",
        "f1_result = f1_result_dict['f1']\n",
        "print(f\"Accuracy: {accuracy_result}\")"
      ],
      "metadata": {
        "executionCancelledAt": null,
        "executionTime": 1690,
        "lastExecutedAt": 1740935782459,
        "lastExecutedByKernel": "33627169-d1d7-4144-a0f7-d5c40e4c6ce1",
        "lastScheduledRunId": null,
        "lastSuccessfullyExecutedCode": "import pandas as pd\nimport torch\n\n# Load the car reviews dataset\nfile_path = \"data/car_reviews.csv\"\ndf = pd.read_csv(file_path, delimiter=\";\")\n\n# Put the car reviews and their associated sentiment labels in two lists\nreviews = df['Review'].tolist()\nreal_labels = df['Class'].tolist()\n\n\n# Instruction 1: sentiment classification\n\n# Load a sentiment analysis LLM into a pipeline\nfrom transformers import pipeline\nclassifier = pipeline('sentiment-analysis', model='distilbert-base-uncased-finetuned-sst-2-english')\n\n# Perform inference on the car reviews and display prediction results\npredicted_labels = classifier(reviews)\nfor review, prediction, label in zip(reviews, predicted_labels, real_labels):\n    print(f\"Review: {review}\\nActual Sentiment: {label}\\nPredicted Sentiment: {prediction['label']} (Confidence: {prediction['score']:.4f})\\n\")\n\n# Load accuracy and F1 score metrics    \nimport evaluate\naccuracy = evaluate.load(\"accuracy\")\nf1 = evaluate.load(\"f1\")\n\n# Map categorical sentiment labels into integer labels\nreferences = [1 if label == \"POSITIVE\" else 0 for label in real_labels]\npredictions = [1 if label['label'] == \"POSITIVE\" else 0 for label in predicted_labels]\n\n# Calculate accuracy and F1 score\naccuracy_result_dict = accuracy.compute(references=references, predictions=predictions)\naccuracy_result = accuracy_result_dict['accuracy']\nf1_result_dict = f1.compute(references=references, predictions=predictions)\nf1_result = f1_result_dict['f1']\nprint(f\"Accuracy: {accuracy_result}\")",
        "outputsMetadata": {
          "0": {
            "height": 482,
            "type": "stream"
          }
        },
        "id": "2d07303e-10ec-46be-a4f2-5a9b69b6ec21",
        "outputId": "f755b30e-1a31-401b-8a4f-27e59750821e"
      },
      "cell_type": "code",
      "id": "2d07303e-10ec-46be-a4f2-5a9b69b6ec21",
      "outputs": [
        {
          "output_type": "stream",
          "name": "stdout",
          "text": "Review: I am very satisfied with my 2014 Nissan NV SL. I use this van for my business deliveries and personal use. Camping, road trips, etc. We dont have any children so I store most of the seats in my warehouse. I wanted the passenger van for the rear air conditioning. We drove our van from Florida to California for a Cross Country trip in 2014. We averaged about 18 mpg. We drove thru a lot of rain and It was a very comfortable and stable vehicle. The V8 Nissan Titan engine is a 500k mile engine. It has been tested many times by delivery and trucking companies. This is why Nissan gives you a 5 year or 100k mile bumper to bumper warranty. Many people are scared about driving this van because of its size. But with front and rear sonar sensors, large mirrors and the back up camera. It is easy to drive. The front and rear sensors also monitor the front and rear sides of the bumpers making it easier to park close to objects. Our Nissan NV is a Tow Monster. It pulls our 5000 pound travel trailer like its not even there. I have plenty of power to pass a vehicle if needed. The 5.6 liter engine produces 317 hp. I have owned Chevy and Ford vans and there were not very comfortable and had little cockpit room. The Nissan NV is the only vehicle made that has the engine forward like a pick up truck giving the driver plenty of room and comfort in the cockpit area. I dont have any negatives to say about my NV. This is a wide vehicle. The only modification I would like to see from Nissan is for them to add amber side mirror marker lights.BTW. I now own a 2016 Nissan NVP SL. Love it.\nActual Sentiment: POSITIVE\nPredicted Sentiment: POSITIVE (Confidence: 0.9294)\n\nReview: The car is fine. It's a bit loud and not very powerful. On one hand, compared to its peers, the interior is well-built. The transmission failed a few years ago, and the dealer replaced it under warranty with no issues. Now, about 60k miles later, the transmission is failing again. It sounds like a truck, and the issues are well-documented. The dealer tells me it is normal, refusing to do anything to resolve the issue. After owning the car for 4 years, there are many other vehicles I would purchase over this one. Initially, I really liked what the brand is about: ride quality, reliability, etc. But I will not purchase another one. Despite these concerns, I must say, the level of comfort in the car has always been satisfactory, but not worth the rest of issues found.\nActual Sentiment: NEGATIVE\nPredicted Sentiment: POSITIVE (Confidence: 0.8654)\n\nReview: My first foreign car. Love it, I would buy another.\nActual Sentiment: POSITIVE\nPredicted Sentiment: POSITIVE (Confidence: 0.9995)\n\nReview: I've come across numerous reviews praising the Rogue, and I genuinely feel like I might be missing something. It's only been a week since I got the car, and I am genuinely disappointed. I truly wish I could return it. My main concern revolves around what I see as a significant design flaw (which I believe also exists in the Murano, though that wasn't much better and considerably pricier). The rear windshield is just too small. The headrests in the back seat obstruct the sides of the rearview window. This \"Crossover\" feels more like a cheaply made compact car. My other vehicle is a Sonata, and it provides a significantly quieter and smoother ride. I did not anticipate this car to ride so roughly; my 2006 Pathfinder had a smoother ride! I would rate this car a 5 all around.\nActual Sentiment: NEGATIVE\nPredicted Sentiment: NEGATIVE (Confidence: 0.9935)\n\nReview: I've been dreaming of owning an SUV for quite a while, but I've been driving cars that were already paid for during an extended period. I ultimately made the decision to transition to a brand-new car, which, of course, involved taking on new payments. However, given that I don't drive extensively, I was inclined to avoid a substantial financial commitment. The Nissan Rogue provides me with the desired SUV experience without burdening me with an exorbitant payment; the financial arrangement is quite reasonable. Handling and styling are great; I have hauled 12 bags of mulch in the back with the seats down and could have held more. I am VERY satisfied overall. I find myself needing to exercise extra caution when making lane changes, particularly owing to the blind spots resulting from the small side windows situated towards the rear of the vehicle. To address this concern, I am actively engaged in making adjustments to my mirrors and consciously reducing the frequency of lane changes. The engine delivers strong performance, and the ride is really smooth.\nActual Sentiment: POSITIVE\nPredicted Sentiment: POSITIVE (Confidence: 0.9987)\n\nAccuracy: 0.8\n"
        }
      ],
      "execution_count": null
    },
    {
      "source": [
        "The true labels in the dataset are binary (POSITIVE or NEGATIVE).\n",
        "\n",
        "To compare the model’s predictions with the true labels, we need to map the model’s output (POSITIVE/NEGATIVE) to binary values (1/0)."
      ],
      "metadata": {
        "id": "713f9223-872c-49ac-9ceb-a48fec458c72"
      },
      "cell_type": "markdown",
      "id": "713f9223-872c-49ac-9ceb-a48fec458c72"
    },
    {
      "source": [
        "# Extract the first two sentences\n",
        "first_review = df[\"Review\"][0]\n",
        "tokenize = sent_tokenize(first_review)\n",
        "text_to_translate = \" \".join(tokenize[:2]) # first two sentences\n",
        "\n"
      ],
      "metadata": {
        "executionCancelledAt": null,
        "executionTime": 54,
        "lastExecutedAt": 1740935782513,
        "lastExecutedByKernel": "33627169-d1d7-4144-a0f7-d5c40e4c6ce1",
        "lastScheduledRunId": null,
        "lastSuccessfullyExecutedCode": "# Extract the first two sentences\nfirst_review = df[\"Review\"][0]\ntokenize = sent_tokenize(first_review)\ntext_to_translate = \" \".join(tokenize[:2]) # first two sentences\n\n",
        "outputsMetadata": {
          "0": {
            "height": 477,
            "type": "stream"
          }
        },
        "id": "859e7010-5b05-4764-980a-e4da1a32a4ae"
      },
      "cell_type": "code",
      "id": "859e7010-5b05-4764-980a-e4da1a32a4ae",
      "outputs": [],
      "execution_count": null
    },
    {
      "source": [
        "#Load trabslation model\n",
        "translator = pipeline(\"translation_en_to_es\" , model =\"Helsinki-NLP/opus-mt-en-es\")"
      ],
      "metadata": {
        "executionCancelledAt": null,
        "executionTime": 2052,
        "lastExecutedAt": 1740935784566,
        "lastExecutedByKernel": "33627169-d1d7-4144-a0f7-d5c40e4c6ce1",
        "lastScheduledRunId": null,
        "lastSuccessfullyExecutedCode": "#Load trabslation model\ntranslator = pipeline(\"translation_en_to_es\" , model =\"Helsinki-NLP/opus-mt-en-es\")",
        "jupyter": {
          "outputs_hidden": false,
          "source_hidden": false
        },
        "id": "678cb837-effd-479b-b6e5-8f3a7cdc9751"
      },
      "cell_type": "code",
      "id": "678cb837-effd-479b-b6e5-8f3a7cdc9751",
      "outputs": [],
      "execution_count": null
    },
    {
      "source": [
        "#Translate the text\n",
        "translated_review = translator(text_to_translate)[0][\"translation_text\"]\n",
        "print(translated_review)"
      ],
      "metadata": {
        "executionCancelledAt": null,
        "executionTime": 879,
        "lastExecutedAt": 1740935785446,
        "lastExecutedByKernel": "33627169-d1d7-4144-a0f7-d5c40e4c6ce1",
        "lastScheduledRunId": null,
        "lastSuccessfullyExecutedCode": "#Translate the text\ntranslated_review = translator(text_to_translate)[0][\"translation_text\"]\nprint(translated_review)",
        "outputsMetadata": {
          "0": {
            "height": 59,
            "type": "stream"
          }
        },
        "id": "6ddf3edd-a269-49ca-bff1-951e0ff9cb48",
        "outputId": "7fbd8441-a0b7-48fa-a43a-cb4289763281"
      },
      "cell_type": "code",
      "id": "6ddf3edd-a269-49ca-bff1-951e0ff9cb48",
      "outputs": [
        {
          "output_type": "stream",
          "name": "stdout",
          "text": "Estoy muy satisfecho con mi Nissan NV SL 2014. Uso esta camioneta para mis entregas de negocios y uso personal.\n"
        }
      ],
      "execution_count": null
    },
    {
      "source": [
        "# Load reference translations\n",
        "with open(\"data/reference_translations.txt\", \"r\") as f:\n",
        "    references = [line.strip() for line in f.readlines()]\n",
        "print(references)"
      ],
      "metadata": {
        "executionCancelledAt": null,
        "executionTime": 52,
        "lastExecutedAt": 1740935785498,
        "lastExecutedByKernel": "33627169-d1d7-4144-a0f7-d5c40e4c6ce1",
        "lastScheduledRunId": null,
        "lastSuccessfullyExecutedCode": "# Load reference translations\nwith open(\"data/reference_translations.txt\", \"r\") as f:\n    references = [line.strip() for line in f.readlines()]\nprint(references)",
        "outputsMetadata": {
          "0": {
            "height": 80,
            "type": "stream"
          }
        },
        "id": "0e93912d-3ea4-455f-9055-1950eb3ad87e",
        "outputId": "44b702c0-ec62-478a-a17e-1481ef33bf11"
      },
      "cell_type": "code",
      "id": "0e93912d-3ea4-455f-9055-1950eb3ad87e",
      "outputs": [
        {
          "output_type": "stream",
          "name": "stdout",
          "text": "['Estoy muy satisfecho con mi Nissan NV SL 2014. Utilizo esta camioneta para mis entregas comerciales y uso personal.', 'Estoy muy satisfecho con mi Nissan NV SL 2014. Uso esta furgoneta para mis entregas comerciales y uso personal.']\n"
        }
      ],
      "execution_count": null
    },
    {
      "source": [
        "# Load and calculate BLEU score metric\n",
        "bleu = evaluate.load(\"bleu\")\n",
        "bleu_score = bleu.compute(predictions=[translated_review], references=[references])\n",
        "print(bleu_score['bleu'])\n"
      ],
      "metadata": {
        "executionCancelledAt": null,
        "executionTime": 1223,
        "lastExecutedAt": 1740935786721,
        "lastExecutedByKernel": "33627169-d1d7-4144-a0f7-d5c40e4c6ce1",
        "lastScheduledRunId": null,
        "lastSuccessfullyExecutedCode": "# Load and calculate BLEU score metric\nbleu = evaluate.load(\"bleu\")\nbleu_score = bleu.compute(predictions=[translated_review], references=[references])\nprint(bleu_score['bleu'])\n",
        "id": "8b5003ab-7aa7-4564-8bb1-219655f2bcdf",
        "outputId": "791f43a8-9254-4c88-a577-42ddf7ef12cf"
      },
      "cell_type": "code",
      "id": "8b5003ab-7aa7-4564-8bb1-219655f2bcdf",
      "outputs": [
        {
          "output_type": "stream",
          "name": "stdout",
          "text": "0.7794483794144497\n"
        }
      ],
      "execution_count": null
    },
    {
      "source": [
        "print(f\"Translated Review: {translated_review}\")\n",
        "print(f\"BLUE Score: {bleu_score}\")"
      ],
      "metadata": {
        "executionCancelledAt": null,
        "executionTime": 52,
        "lastExecutedAt": 1740935786773,
        "lastExecutedByKernel": "33627169-d1d7-4144-a0f7-d5c40e4c6ce1",
        "lastScheduledRunId": null,
        "lastSuccessfullyExecutedCode": "print(f\"Translated Review: {translated_review}\")\nprint(f\"BLUE Score: {bleu_score}\")",
        "outputsMetadata": {
          "0": {
            "height": 122,
            "type": "stream"
          }
        },
        "id": "10542241-67b4-49d3-ac70-5385778b1bd4",
        "outputId": "ee2924b2-6e31-4a00-dbc9-b4bf287a42c5"
      },
      "cell_type": "code",
      "id": "10542241-67b4-49d3-ac70-5385778b1bd4",
      "outputs": [
        {
          "output_type": "stream",
          "name": "stdout",
          "text": "Translated Review: Estoy muy satisfecho con mi Nissan NV SL 2014. Uso esta camioneta para mis entregas de negocios y uso personal.\nBLUE Score: {'bleu': 0.7794483794144497, 'precisions': [0.9090909090909091, 0.8571428571428571, 0.75, 0.631578947368421], 'brevity_penalty': 1.0, 'length_ratio': 1.0476190476190477, 'translation_length': 22, 'reference_length': 21}\n"
        }
      ],
      "execution_count": null
    },
    {
      "source": [
        "# 3. Ask a Question About a Car Review"
      ],
      "metadata": {
        "id": "e237bb10-4990-428c-808e-3591cf3d8ce4"
      },
      "cell_type": "markdown",
      "id": "e237bb10-4990-428c-808e-3591cf3d8ce4"
    },
    {
      "source": [
        "# Instantiate model and tokenizer\n",
        "model_ckp = \"deepset/minilm-uncased-squad2\"\n",
        "tokenizer = AutoTokenizer.from_pretrained(model_ckp)\n",
        "model = AutoModelForQuestionAnswering.from_pretrained(model_ckp)\n",
        "\n",
        "# Define context and question, and tokenize them\n",
        "context = reviews[1]\n",
        "print(f\"Context:\\n{context}\")\n",
        "question = \"What did he like about the brand?\"\n",
        "inputs = tokenizer(question, context, return_tensors=\"pt\")\n"
      ],
      "metadata": {
        "executionCancelledAt": null,
        "executionTime": 564,
        "lastExecutedAt": 1740935787337,
        "lastExecutedByKernel": "33627169-d1d7-4144-a0f7-d5c40e4c6ce1",
        "lastScheduledRunId": null,
        "lastSuccessfullyExecutedCode": "# Instantiate model and tokenizer\nmodel_ckp = \"deepset/minilm-uncased-squad2\"\ntokenizer = AutoTokenizer.from_pretrained(model_ckp)\nmodel = AutoModelForQuestionAnswering.from_pretrained(model_ckp)\n\n# Define context and question, and tokenize them\ncontext = reviews[1]\nprint(f\"Context:\\n{context}\")\nquestion = \"What did he like about the brand?\"\ninputs = tokenizer(question, context, return_tensors=\"pt\")\n",
        "outputsMetadata": {
          "0": {
            "height": 227,
            "type": "stream"
          }
        },
        "jupyter": {
          "outputs_hidden": false,
          "source_hidden": false
        },
        "id": "0576f7b7-98d0-4d54-8744-a47f0677ade6",
        "outputId": "fe23b304-71fc-469a-d63c-6f8d702e0169"
      },
      "cell_type": "code",
      "id": "0576f7b7-98d0-4d54-8744-a47f0677ade6",
      "outputs": [
        {
          "output_type": "stream",
          "name": "stdout",
          "text": "Context:\nThe car is fine. It's a bit loud and not very powerful. On one hand, compared to its peers, the interior is well-built. The transmission failed a few years ago, and the dealer replaced it under warranty with no issues. Now, about 60k miles later, the transmission is failing again. It sounds like a truck, and the issues are well-documented. The dealer tells me it is normal, refusing to do anything to resolve the issue. After owning the car for 4 years, there are many other vehicles I would purchase over this one. Initially, I really liked what the brand is about: ride quality, reliability, etc. But I will not purchase another one. Despite these concerns, I must say, the level of comfort in the car has always been satisfactory, but not worth the rest of issues found.\n"
        }
      ],
      "execution_count": null
    },
    {
      "source": [
        "#Get the answer\n",
        "result = qa_pipeline(question =question , context = context)\n",
        "answer = result[\"answer\"]\n",
        "print(f\"answer:{answer}\")"
      ],
      "metadata": {
        "executionCancelledAt": null,
        "executionTime": 106,
        "lastExecutedAt": 1740935787443,
        "lastExecutedByKernel": "33627169-d1d7-4144-a0f7-d5c40e4c6ce1",
        "lastScheduledRunId": null,
        "lastSuccessfullyExecutedCode": "#Get the answer \nresult = qa_pipeline(question =question , context = context)\nanswer = result[\"answer\"]\nprint(f\"answer:{answer}\")",
        "outputsMetadata": {
          "0": {
            "height": 38,
            "type": "stream"
          }
        },
        "id": "328fde3d-49ee-4e2d-b687-c572efbfe1bb",
        "outputId": "670e3ded-d7a9-4412-a393-35f1893dea32"
      },
      "cell_type": "code",
      "id": "328fde3d-49ee-4e2d-b687-c572efbfe1bb",
      "outputs": [
        {
          "output_type": "stream",
          "name": "stdout",
          "text": "answer:ride quality, reliability\n"
        }
      ],
      "execution_count": null
    },
    {
      "source": [
        "# 4. Summarize and Analyze a Car Review"
      ],
      "metadata": {
        "id": "887915e4-9265-42e5-843f-50c3569dd163"
      },
      "cell_type": "markdown",
      "id": "887915e4-9265-42e5-843f-50c3569dd163"
    },
    {
      "source": [
        "# Load summarization model\n",
        "\n",
        "# Load summarization model\n",
        "summarizer = pipeline(\"summarization\", model=\"facebook/bart-large-cnn\")\n",
        "\n",
        "# Summarize the last review\n",
        "last_review = df['Review'][4]\n",
        "summarized_text = summarizer(last_review, max_length=55, min_length=50, do_sample=False)[0]['summary_text']\n",
        "\n",
        "print(f\"Summarized Text: {summarized_text}\")"
      ],
      "metadata": {
        "executionCancelledAt": null,
        "executionTime": 11502,
        "lastExecutedAt": 1740935798945,
        "lastExecutedByKernel": "33627169-d1d7-4144-a0f7-d5c40e4c6ce1",
        "lastScheduledRunId": null,
        "lastSuccessfullyExecutedCode": "# Load summarization model\n\n# Load summarization model\nsummarizer = pipeline(\"summarization\", model=\"facebook/bart-large-cnn\")\n\n# Summarize the last review\nlast_review = df['Review'][4]\nsummarized_text = summarizer(last_review, max_length=55, min_length=50, do_sample=False)[0]['summary_text']\n\nprint(f\"Summarized Text: {summarized_text}\")",
        "outputsMetadata": {
          "0": {
            "height": 101,
            "type": "stream"
          },
          "5": {
            "height": 101,
            "type": "stream"
          }
        },
        "id": "37666c3f-5556-4c8e-a30e-2203379423e7",
        "outputId": "132c7c1f-831c-4871-830d-f48db9481520"
      },
      "cell_type": "code",
      "id": "37666c3f-5556-4c8e-a30e-2203379423e7",
      "outputs": [
        {
          "output_type": "stream",
          "name": "stdout",
          "text": "Summarized Text: The Nissan Rogue provides me with the desired SUV experience without burdening me with an exorbitant payment. Handling and styling are great; I have hauled 12 bags of mulch in the back with the seats down and could have held more. The engine delivers strong\n"
        }
      ],
      "execution_count": null
    }
  ],
  "metadata": {
    "language_info": {
      "name": "python",
      "version": "3.8.10",
      "mimetype": "text/x-python",
      "codemirror_mode": {
        "name": "ipython",
        "version": 3
      },
      "pygments_lexer": "ipython3",
      "nbconvert_exporter": "python",
      "file_extension": ".py"
    },
    "kernelspec": {
      "display_name": "Python 3 (ipykernel)",
      "language": "python",
      "name": "python3"
    },
    "editor": "DataLab",
    "colab": {
      "provenance": [],
      "include_colab_link": true
    }
  },
  "nbformat": 4,
  "nbformat_minor": 5
}